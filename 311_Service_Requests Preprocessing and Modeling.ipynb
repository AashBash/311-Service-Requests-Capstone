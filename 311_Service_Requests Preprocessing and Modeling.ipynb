{
 "cells": [
  {
   "cell_type": "markdown",
   "id": "74a19305-37be-45fd-9f20-412235088436",
   "metadata": {},
   "source": [
    "# Capstone - 3 Preprocessing  & Modeling : Improving NYC's Services To 311 Requests"
   ]
  },
  {
   "cell_type": "markdown",
   "id": "0cb196df-dd02-427f-83bf-175eaf928821",
   "metadata": {},
   "source": [
    "Following the data wrangling and exploratory analysis phases, this stage focuses on preparing the dataset for predictive modeling to better understand patterns in NYC’s 311 service response times. Preprocessing involves transforming categorical variables into machine readable formats using one hot encoding, standardizing feature scales, and splitting the dataset into training and testing subsets to ensure valid model evaluation.\n",
    "\n",
    "To support data driven decision making, the project introduces a binary classification task: predicting whether a 311 complaint will receive a slow response, defined as taking more than three days to close. This modeling approach helps identify which types of complaints, boroughs, or agencies are more likely to experience delays. By learning from past response behaviors, the model aims to surface early warning signals that can be used by city agencies to improve operational efficiency and equity in service delivery.\n"
   ]
  },
  {
   "cell_type": "markdown",
   "id": "4b03498e-bf1c-4ff1-a61e-cb711f5e4d53",
   "metadata": {},
   "source": [
    "## Load the Libraries and the Data"
   ]
  },
  {
   "cell_type": "code",
   "execution_count": 113,
   "id": "b4c8aba1-89ed-4a9e-946b-409b40dbd9ad",
   "metadata": {},
   "outputs": [],
   "source": [
    "import pandas as pd\n",
    "import numpy as np\n",
    "import seaborn as sns\n",
    "import matplotlib.pyplot as plt\n",
    "from sklearn.model_selection import train_test_split\n",
    "from sklearn.preprocessing import OneHotEncoder, StandardScaler\n",
    "from sklearn.linear_model import LogisticRegression\n",
    "from sklearn.metrics import classification_report, confusion_matrix, roc_auc_score, roc_curve"
   ]
  },
  {
   "cell_type": "code",
   "execution_count": 115,
   "id": "c6a308da-aa33-4d1c-a523-c4b592a392ef",
   "metadata": {},
   "outputs": [],
   "source": [
    "service_requests = pd.read_csv(\"cleaned_311_2016_subset.csv\")"
   ]
  },
  {
   "cell_type": "markdown",
   "id": "322b07fe-1482-40d0-9cd9-409b48952e04",
   "metadata": {},
   "source": [
    "## Check the Data"
   ]
  },
  {
   "cell_type": "code",
   "execution_count": 118,
   "id": "2e573602-f063-4e4a-b111-df1fbaed27ef",
   "metadata": {},
   "outputs": [
    {
     "data": {
      "text/html": [
       "<div>\n",
       "<style scoped>\n",
       "    .dataframe tbody tr th:only-of-type {\n",
       "        vertical-align: middle;\n",
       "    }\n",
       "\n",
       "    .dataframe tbody tr th {\n",
       "        vertical-align: top;\n",
       "    }\n",
       "\n",
       "    .dataframe thead th {\n",
       "        text-align: right;\n",
       "    }\n",
       "</style>\n",
       "<table border=\"1\" class=\"dataframe\">\n",
       "  <thead>\n",
       "    <tr style=\"text-align: right;\">\n",
       "      <th></th>\n",
       "      <th>Created Date</th>\n",
       "      <th>Closed Date</th>\n",
       "      <th>Agency</th>\n",
       "      <th>Complaint Type</th>\n",
       "      <th>Descriptor</th>\n",
       "      <th>Incident Zip</th>\n",
       "      <th>Borough</th>\n",
       "      <th>Latitude</th>\n",
       "      <th>Longitude</th>\n",
       "      <th>Status</th>\n",
       "      <th>Response Time (Hours)</th>\n",
       "      <th>Is Closed</th>\n",
       "    </tr>\n",
       "  </thead>\n",
       "  <tbody>\n",
       "    <tr>\n",
       "      <th>0</th>\n",
       "      <td>2016-09-30 00:00:00</td>\n",
       "      <td>2016-10-03 00:00:01</td>\n",
       "      <td>DOHMH</td>\n",
       "      <td>Food Poisoning</td>\n",
       "      <td>1 or 2</td>\n",
       "      <td>10029.0</td>\n",
       "      <td>Manhattan</td>\n",
       "      <td>40.789715</td>\n",
       "      <td>-73.946040</td>\n",
       "      <td>Closed</td>\n",
       "      <td>72.000278</td>\n",
       "      <td>True</td>\n",
       "    </tr>\n",
       "    <tr>\n",
       "      <th>1</th>\n",
       "      <td>2016-09-30 00:00:00</td>\n",
       "      <td>2016-10-06 00:00:00</td>\n",
       "      <td>HPD</td>\n",
       "      <td>Heat/Hot Water</td>\n",
       "      <td>ENTIRE BUILDING</td>\n",
       "      <td>11203.0</td>\n",
       "      <td>Brooklyn</td>\n",
       "      <td>40.652807</td>\n",
       "      <td>-73.931519</td>\n",
       "      <td>Closed</td>\n",
       "      <td>144.000000</td>\n",
       "      <td>True</td>\n",
       "    </tr>\n",
       "    <tr>\n",
       "      <th>2</th>\n",
       "      <td>2016-09-30 00:00:00</td>\n",
       "      <td>2016-09-30 00:00:00</td>\n",
       "      <td>DOHMH</td>\n",
       "      <td>Rodent</td>\n",
       "      <td>Mouse Sighting</td>\n",
       "      <td>10028.0</td>\n",
       "      <td>Manhattan</td>\n",
       "      <td>40.778587</td>\n",
       "      <td>-73.955567</td>\n",
       "      <td>Closed</td>\n",
       "      <td>0.000000</td>\n",
       "      <td>True</td>\n",
       "    </tr>\n",
       "    <tr>\n",
       "      <th>3</th>\n",
       "      <td>2016-09-30 00:00:00</td>\n",
       "      <td>2016-10-12 00:00:00</td>\n",
       "      <td>DOHMH</td>\n",
       "      <td>Rodent</td>\n",
       "      <td>Rat Sighting</td>\n",
       "      <td>11377.0</td>\n",
       "      <td>Queens</td>\n",
       "      <td>40.745769</td>\n",
       "      <td>-73.907326</td>\n",
       "      <td>Closed</td>\n",
       "      <td>288.000000</td>\n",
       "      <td>True</td>\n",
       "    </tr>\n",
       "    <tr>\n",
       "      <th>4</th>\n",
       "      <td>2016-09-30 00:00:00</td>\n",
       "      <td>2016-10-11 00:00:00</td>\n",
       "      <td>DOHMH</td>\n",
       "      <td>Standing Water</td>\n",
       "      <td>Container - Over 5 Gallons</td>\n",
       "      <td>11435.0</td>\n",
       "      <td>Queens</td>\n",
       "      <td>40.690316</td>\n",
       "      <td>-73.799074</td>\n",
       "      <td>Closed</td>\n",
       "      <td>264.000000</td>\n",
       "      <td>True</td>\n",
       "    </tr>\n",
       "  </tbody>\n",
       "</table>\n",
       "</div>"
      ],
      "text/plain": [
       "          Created Date          Closed Date Agency  Complaint Type  \\\n",
       "0  2016-09-30 00:00:00  2016-10-03 00:00:01  DOHMH  Food Poisoning   \n",
       "1  2016-09-30 00:00:00  2016-10-06 00:00:00    HPD  Heat/Hot Water   \n",
       "2  2016-09-30 00:00:00  2016-09-30 00:00:00  DOHMH          Rodent   \n",
       "3  2016-09-30 00:00:00  2016-10-12 00:00:00  DOHMH          Rodent   \n",
       "4  2016-09-30 00:00:00  2016-10-11 00:00:00  DOHMH  Standing Water   \n",
       "\n",
       "                   Descriptor  Incident Zip    Borough   Latitude  Longitude  \\\n",
       "0                      1 or 2       10029.0  Manhattan  40.789715 -73.946040   \n",
       "1             ENTIRE BUILDING       11203.0   Brooklyn  40.652807 -73.931519   \n",
       "2              Mouse Sighting       10028.0  Manhattan  40.778587 -73.955567   \n",
       "3                Rat Sighting       11377.0     Queens  40.745769 -73.907326   \n",
       "4  Container - Over 5 Gallons       11435.0     Queens  40.690316 -73.799074   \n",
       "\n",
       "   Status  Response Time (Hours)  Is Closed  \n",
       "0  Closed              72.000278       True  \n",
       "1  Closed             144.000000       True  \n",
       "2  Closed               0.000000       True  \n",
       "3  Closed             288.000000       True  \n",
       "4  Closed             264.000000       True  "
      ]
     },
     "execution_count": 118,
     "metadata": {},
     "output_type": "execute_result"
    }
   ],
   "source": [
    "service_requests.head()"
   ]
  },
  {
   "cell_type": "code",
   "execution_count": 120,
   "id": "8471f5c7-8030-44d0-89dd-563b900125f9",
   "metadata": {},
   "outputs": [
    {
     "name": "stdout",
     "output_type": "stream",
     "text": [
      "<class 'pandas.core.frame.DataFrame'>\n",
      "RangeIndex: 139007 entries, 0 to 139006\n",
      "Data columns (total 12 columns):\n",
      " #   Column                 Non-Null Count   Dtype  \n",
      "---  ------                 --------------   -----  \n",
      " 0   Created Date           139007 non-null  object \n",
      " 1   Closed Date            135850 non-null  object \n",
      " 2   Agency                 139007 non-null  object \n",
      " 3   Complaint Type         139007 non-null  object \n",
      " 4   Descriptor             132861 non-null  object \n",
      " 5   Incident Zip           134306 non-null  float64\n",
      " 6   Borough                139007 non-null  object \n",
      " 7   Latitude               128524 non-null  float64\n",
      " 8   Longitude              128524 non-null  float64\n",
      " 9   Status                 139007 non-null  object \n",
      " 10  Response Time (Hours)  135850 non-null  float64\n",
      " 11  Is Closed              139007 non-null  bool   \n",
      "dtypes: bool(1), float64(4), object(7)\n",
      "memory usage: 11.8+ MB\n"
     ]
    }
   ],
   "source": [
    "service_requests.info()"
   ]
  },
  {
   "cell_type": "code",
   "execution_count": 122,
   "id": "8befdd35-53ab-4d2e-9b51-c8a53865df9d",
   "metadata": {},
   "outputs": [
    {
     "data": {
      "text/plain": [
       "(139007, 12)"
      ]
     },
     "execution_count": 122,
     "metadata": {},
     "output_type": "execute_result"
    }
   ],
   "source": [
    "service_requests.shape"
   ]
  },
  {
   "cell_type": "code",
   "execution_count": 124,
   "id": "339c860b-0d09-4271-b2a7-63365f49f461",
   "metadata": {},
   "outputs": [
    {
     "data": {
      "text/plain": [
       "Created Date                 0\n",
       "Closed Date               3157\n",
       "Agency                       0\n",
       "Complaint Type               0\n",
       "Descriptor                6146\n",
       "Incident Zip              4701\n",
       "Borough                      0\n",
       "Latitude                 10483\n",
       "Longitude                10483\n",
       "Status                       0\n",
       "Response Time (Hours)     3157\n",
       "Is Closed                    0\n",
       "dtype: int64"
      ]
     },
     "execution_count": 124,
     "metadata": {},
     "output_type": "execute_result"
    }
   ],
   "source": [
    "# check for missing values\n",
    "service_requests.isnull().sum()"
   ]
  },
  {
   "cell_type": "code",
   "execution_count": 126,
   "id": "3578f8e4-f884-47b5-b679-1a71d7a5d7cc",
   "metadata": {},
   "outputs": [],
   "source": [
    "# Drop rows with missing response time\n",
    "service_requests = service_requests[service_requests['Response Time (Hours)'].notnull()]"
   ]
  },
  {
   "cell_type": "code",
   "execution_count": 128,
   "id": "9b3d8430-cebe-4196-adae-123687a27b7a",
   "metadata": {},
   "outputs": [],
   "source": [
    "# Drop rows without lat/long\n",
    "service_requests = service_requests[service_requests['Latitude'].notnull() & service_requests['Longitude'].notnull()]"
   ]
  },
  {
   "cell_type": "code",
   "execution_count": 130,
   "id": "f0c4aa16-9cb0-4a1f-a983-4e1ddbefc985",
   "metadata": {},
   "outputs": [],
   "source": [
    "# Re format the zipcode\n",
    "service_requests['Incident Zip'] = service_requests['Incident Zip'].astype(str).str.split('.').str[0]"
   ]
  },
  {
   "cell_type": "code",
   "execution_count": 132,
   "id": "97906ab2-c48a-4b7c-bf6d-212fd43b3ec4",
   "metadata": {},
   "outputs": [
    {
     "data": {
      "text/plain": [
       "Status            Is Closed\n",
       "Closed            True         124777\n",
       "Pending           True            670\n",
       "Assigned          True             12\n",
       "Closed - Testing  True              9\n",
       "Open              True              1\n",
       "Started           True              1\n",
       "Name: count, dtype: int64"
      ]
     },
     "execution_count": 132,
     "metadata": {},
     "output_type": "execute_result"
    }
   ],
   "source": [
    "#Confirm that ' Status'  and 'Is Closed' are always aligned\n",
    "service_requests[['Status', 'Is Closed']].value_counts()"
   ]
  },
  {
   "cell_type": "code",
   "execution_count": 134,
   "id": "92244612-7127-4661-a792-2725bfdee4d9",
   "metadata": {},
   "outputs": [
    {
     "data": {
      "text/plain": [
       "<Axes: >"
      ]
     },
     "execution_count": 134,
     "metadata": {},
     "output_type": "execute_result"
    },
    {
     "data": {
      "image/png": "[encoded data removed]",
      "text/plain": [
       "<Figure size 640x480 with 1 Axes>"
      ]
     },
     "metadata": {},
     "output_type": "display_data"
    }
   ],
   "source": [
    "#Check for Outliers\n",
    "service_requests['Response Time (Hours)'].describe()\n",
    "service_requests.boxplot(column='Response Time (Hours)')"
   ]
  },
  {
   "cell_type": "code",
   "execution_count": 136,
   "id": "19e3f1f9-a341-4c83-a3ec-e47de70dbfa0",
   "metadata": {},
   "outputs": [
    {
     "data": {
      "text/html": [
       "<div>\n",
       "<style scoped>\n",
       "    .dataframe tbody tr th:only-of-type {\n",
       "        vertical-align: middle;\n",
       "    }\n",
       "\n",
       "    .dataframe tbody tr th {\n",
       "        vertical-align: top;\n",
       "    }\n",
       "\n",
       "    .dataframe thead th {\n",
       "        text-align: right;\n",
       "    }\n",
       "</style>\n",
       "<table border=\"1\" class=\"dataframe\">\n",
       "  <thead>\n",
       "    <tr style=\"text-align: right;\">\n",
       "      <th></th>\n",
       "      <th>Created Date</th>\n",
       "      <th>Closed Date</th>\n",
       "      <th>Agency</th>\n",
       "      <th>Complaint Type</th>\n",
       "      <th>Descriptor</th>\n",
       "      <th>Incident Zip</th>\n",
       "      <th>Borough</th>\n",
       "      <th>Latitude</th>\n",
       "      <th>Longitude</th>\n",
       "      <th>Status</th>\n",
       "      <th>Response Time (Hours)</th>\n",
       "      <th>Is Closed</th>\n",
       "    </tr>\n",
       "  </thead>\n",
       "  <tbody>\n",
       "    <tr>\n",
       "      <th>0</th>\n",
       "      <td>2016-09-30 00:00:00</td>\n",
       "      <td>2016-10-03 00:00:01</td>\n",
       "      <td>DOHMH</td>\n",
       "      <td>Food Poisoning</td>\n",
       "      <td>1 or 2</td>\n",
       "      <td>10029</td>\n",
       "      <td>Manhattan</td>\n",
       "      <td>40.789715</td>\n",
       "      <td>-73.946040</td>\n",
       "      <td>Closed</td>\n",
       "      <td>72.000278</td>\n",
       "      <td>True</td>\n",
       "    </tr>\n",
       "    <tr>\n",
       "      <th>1</th>\n",
       "      <td>2016-09-30 00:00:00</td>\n",
       "      <td>2016-10-06 00:00:00</td>\n",
       "      <td>HPD</td>\n",
       "      <td>Heat/Hot Water</td>\n",
       "      <td>ENTIRE BUILDING</td>\n",
       "      <td>11203</td>\n",
       "      <td>Brooklyn</td>\n",
       "      <td>40.652807</td>\n",
       "      <td>-73.931519</td>\n",
       "      <td>Closed</td>\n",
       "      <td>144.000000</td>\n",
       "      <td>True</td>\n",
       "    </tr>\n",
       "    <tr>\n",
       "      <th>2</th>\n",
       "      <td>2016-09-30 00:00:00</td>\n",
       "      <td>2016-09-30 00:00:00</td>\n",
       "      <td>DOHMH</td>\n",
       "      <td>Rodent</td>\n",
       "      <td>Mouse Sighting</td>\n",
       "      <td>10028</td>\n",
       "      <td>Manhattan</td>\n",
       "      <td>40.778587</td>\n",
       "      <td>-73.955567</td>\n",
       "      <td>Closed</td>\n",
       "      <td>0.000000</td>\n",
       "      <td>True</td>\n",
       "    </tr>\n",
       "    <tr>\n",
       "      <th>3</th>\n",
       "      <td>2016-09-30 00:00:00</td>\n",
       "      <td>2016-10-12 00:00:00</td>\n",
       "      <td>DOHMH</td>\n",
       "      <td>Rodent</td>\n",
       "      <td>Rat Sighting</td>\n",
       "      <td>11377</td>\n",
       "      <td>Queens</td>\n",
       "      <td>40.745769</td>\n",
       "      <td>-73.907326</td>\n",
       "      <td>Closed</td>\n",
       "      <td>288.000000</td>\n",
       "      <td>True</td>\n",
       "    </tr>\n",
       "    <tr>\n",
       "      <th>4</th>\n",
       "      <td>2016-09-30 00:00:00</td>\n",
       "      <td>2016-10-11 00:00:00</td>\n",
       "      <td>DOHMH</td>\n",
       "      <td>Standing Water</td>\n",
       "      <td>Container - Over 5 Gallons</td>\n",
       "      <td>11435</td>\n",
       "      <td>Queens</td>\n",
       "      <td>40.690316</td>\n",
       "      <td>-73.799074</td>\n",
       "      <td>Closed</td>\n",
       "      <td>264.000000</td>\n",
       "      <td>True</td>\n",
       "    </tr>\n",
       "  </tbody>\n",
       "</table>\n",
       "</div>"
      ],
      "text/plain": [
       "          Created Date          Closed Date Agency  Complaint Type  \\\n",
       "0  2016-09-30 00:00:00  2016-10-03 00:00:01  DOHMH  Food Poisoning   \n",
       "1  2016-09-30 00:00:00  2016-10-06 00:00:00    HPD  Heat/Hot Water   \n",
       "2  2016-09-30 00:00:00  2016-09-30 00:00:00  DOHMH          Rodent   \n",
       "3  2016-09-30 00:00:00  2016-10-12 00:00:00  DOHMH          Rodent   \n",
       "4  2016-09-30 00:00:00  2016-10-11 00:00:00  DOHMH  Standing Water   \n",
       "\n",
       "                   Descriptor Incident Zip    Borough   Latitude  Longitude  \\\n",
       "0                      1 or 2        10029  Manhattan  40.789715 -73.946040   \n",
       "1             ENTIRE BUILDING        11203   Brooklyn  40.652807 -73.931519   \n",
       "2              Mouse Sighting        10028  Manhattan  40.778587 -73.955567   \n",
       "3                Rat Sighting        11377     Queens  40.745769 -73.907326   \n",
       "4  Container - Over 5 Gallons        11435     Queens  40.690316 -73.799074   \n",
       "\n",
       "   Status  Response Time (Hours)  Is Closed  \n",
       "0  Closed              72.000278       True  \n",
       "1  Closed             144.000000       True  \n",
       "2  Closed               0.000000       True  \n",
       "3  Closed             288.000000       True  \n",
       "4  Closed             264.000000       True  "
      ]
     },
     "execution_count": 136,
     "metadata": {},
     "output_type": "execute_result"
    }
   ],
   "source": [
    "service_requests.head()"
   ]
  },
  {
   "cell_type": "markdown",
   "id": "60780bd8-a733-4e8b-a8c2-8ce4d7a8559c",
   "metadata": {},
   "source": [
    "## Feature Engineering"
   ]
  },
  {
   "cell_type": "code",
   "execution_count": 139,
   "id": "88f04198-f3ca-4064-950c-7322f3acc540",
   "metadata": {},
   "outputs": [],
   "source": [
    "# Create response time (in days)\n",
    "service_requests['Created Date'] = pd.to_datetime(service_requests['Created Date'])\n",
    "service_requests['Closed Date'] = pd.to_datetime(service_requests['Closed Date'])\n",
    "service_requests['Response Time'] = (service_requests['Closed Date'] - service_requests['Created Date']).dt.days\n",
    "\n",
    "# Create binary target variable: slow = 1 if response time > 3 days\n",
    "service_requests['Slow Response'] = (service_requests['Response Time'] > 3).astype(int)\n",
    "\n",
    "# Add day-of-week as a feature\n",
    "service_requests['Day of Week'] = service_requests['Created Date'].dt.day_name()\n"
   ]
  },
  {
   "cell_type": "markdown",
   "id": "d0c028e3-e540-45c3-a3e1-21b353d813a5",
   "metadata": {},
   "source": [
    "## Select Features and Target"
   ]
  },
  {
   "cell_type": "code",
   "execution_count": 142,
   "id": "eda50fc3-a35d-438a-ac95-35147c6e4b8e",
   "metadata": {},
   "outputs": [],
   "source": [
    "features = service_requests[['Complaint Type', 'Borough', 'Agency', 'Day of Week']]\n",
    "target = service_requests['Slow Response']"
   ]
  },
  {
   "cell_type": "code",
   "execution_count": 144,
   "id": "499c9c3c-c3bd-46db-8eb5-98b1f84e799b",
   "metadata": {},
   "outputs": [
    {
     "data": {
      "image/png": "[encoded data removed]",
      "text/plain": [
       "<Figure size 600x600 with 1 Axes>"
      ]
     },
     "metadata": {},
     "output_type": "display_data"
    }
   ],
   "source": [
    "plt.figure(figsize=(6,6))\n",
    "sns.countplot(x='Slow Response', data= service_requests)\n",
    "plt.title('Distribution of Responses : Slow vs Fast')\n",
    "plt.xlabel('Slow Response (1 = Yes, 0 = No)')\n",
    "plt.ylabel('Number of Complaints')\n",
    "plt.show()"
   ]
  },
  {
   "cell_type": "markdown",
   "id": "bb1f4ae4-3e2f-4ce5-95df-1d689e89a3ee",
   "metadata": {},
   "source": [
    "## One Hot Encoding"
   ]
  },
  {
   "cell_type": "code",
   "execution_count": 147,
   "id": "73886100-4483-4375-8d85-0242bb96ed38",
   "metadata": {},
   "outputs": [],
   "source": [
    "encoder = OneHotEncoder(sparse_output=False, drop='first')\n",
    "X_encoded = encoder.fit_transform(features)\n",
    "X_feature_names = encoder.get_feature_names_out(features.columns)\n",
    "X = pd.DataFrame(X_encoded, columns=X_feature_names)"
   ]
  },
  {
   "cell_type": "markdown",
   "id": "550c66e4-9981-463f-900e-75b499bb8bc6",
   "metadata": {},
   "source": [
    "## Scale Features"
   ]
  },
  {
   "cell_type": "code",
   "execution_count": 150,
   "id": "ffb4ed71-5652-4dfe-94e6-daa43bbcbccc",
   "metadata": {},
   "outputs": [],
   "source": [
    "scaler = StandardScaler()\n",
    "X_scaled = scaler.fit_transform(X)\n",
    "X = pd.DataFrame(X_scaled, columns=X.columns)"
   ]
  },
  {
   "cell_type": "markdown",
   "id": "5bd1c43d-00f1-45ce-b507-2758cf0e4c3b",
   "metadata": {},
   "source": [
    "## Train Test Split"
   ]
  },
  {
   "cell_type": "code",
   "execution_count": 153,
   "id": "2676a247-5b28-4c33-b614-5cad48987855",
   "metadata": {},
   "outputs": [],
   "source": [
    "X_train, X_test, y_train, y_test = train_test_split(X, target, test_size=0.2, random_state=42)"
   ]
  },
  {
   "cell_type": "markdown",
   "id": "21919934-135a-476c-8474-e4bf7c73ea44",
   "metadata": {},
   "source": [
    "## Train Model"
   ]
  },
  {
   "cell_type": "code",
   "execution_count": 156,
   "id": "15c64c69-ab1e-4e79-9e21-f80d64852c6f",
   "metadata": {},
   "outputs": [
    {
     "data": {
      "text/html": [
       "<style>#sk-container-id-3 {\n",
       "  /* Definition of color scheme common for light and dark mode */\n",
       "  --sklearn-color-text: black;\n",
       "  --sklearn-color-line: gray;\n",
       "  /* Definition of color scheme for unfitted estimators */\n",
       "  --sklearn-color-unfitted-level-0: #fff5e6;\n",
       "  --sklearn-color-unfitted-level-1: #f6e4d2;\n",
       "  --sklearn-color-unfitted-level-2: #ffe0b3;\n",
       "  --sklearn-color-unfitted-level-3: chocolate;\n",
       "  /* Definition of color scheme for fitted estimators */\n",
       "  --sklearn-color-fitted-level-0: #f0f8ff;\n",
       "  --sklearn-color-fitted-level-1: #d4ebff;\n",
       "  --sklearn-color-fitted-level-2: #b3dbfd;\n",
       "  --sklearn-color-fitted-level-3: cornflowerblue;\n",
       "\n",
       "  /* Specific color for light theme */\n",
       "  --sklearn-color-text-on-default-background: var(--sg-text-color, var(--theme-code-foreground, var(--jp-content-font-color1, black)));\n",
       "  --sklearn-color-background: var(--sg-background-color, var(--theme-background, var(--jp-layout-color0, white)));\n",
       "  --sklearn-color-border-box: var(--sg-text-color, var(--theme-code-foreground, var(--jp-content-font-color1, black)));\n",
       "  --sklearn-color-icon: #696969;\n",
       "\n",
       "  @media (prefers-color-scheme: dark) {\n",
       "    /* Redefinition of color scheme for dark theme */\n",
       "    --sklearn-color-text-on-default-background: var(--sg-text-color, var(--theme-code-foreground, var(--jp-content-font-color1, white)));\n",
       "    --sklearn-color-background: var(--sg-background-color, var(--theme-background, var(--jp-layout-color0, #111)));\n",
       "    --sklearn-color-border-box: var(--sg-text-color, var(--theme-code-foreground, var(--jp-content-font-color1, white)));\n",
       "    --sklearn-color-icon: #878787;\n",
       "  }\n",
       "}\n",
       "\n",
       "#sk-container-id-3 {\n",
       "  color: var(--sklearn-color-text);\n",
       "}\n",
       "\n",
       "#sk-container-id-3 pre {\n",
       "  padding: 0;\n",
       "}\n",
       "\n",
       "#sk-container-id-3 input.sk-hidden--visually {\n",
       "  border: 0;\n",
       "  clip: rect(1px 1px 1px 1px);\n",
       "  clip: rect(1px, 1px, 1px, 1px);\n",
       "  height: 1px;\n",
       "  margin: -1px;\n",
       "  overflow: hidden;\n",
       "  padding: 0;\n",
       "  position: absolute;\n",
       "  width: 1px;\n",
       "}\n",
       "\n",
       "#sk-container-id-3 div.sk-dashed-wrapped {\n",
       "  border: 1px dashed var(--sklearn-color-line);\n",
       "  margin: 0 0.4em 0.5em 0.4em;\n",
       "  box-sizing: border-box;\n",
       "  padding-bottom: 0.4em;\n",
       "  background-color: var(--sklearn-color-background);\n",
       "}\n",
       "\n",
       "#sk-container-id-3 div.sk-container {\n",
       "  /* jupyter's `normalize.less` sets `[hidden] { display: none; }`\n",
       "     but bootstrap.min.css set `[hidden] { display: none !important; }`\n",
       "     so we also need the `!important` here to be able to override the\n",
       "     default hidden behavior on the sphinx rendered scikit-learn.org.\n",
       "     See: https://github.com/scikit-learn/scikit-learn/issues/21755 */\n",
       "  display: inline-block !important;\n",
       "  position: relative;\n",
       "}\n",
       "\n",
       "#sk-container-id-3 div.sk-text-repr-fallback {\n",
       "  display: none;\n",
       "}\n",
       "\n",
       "div.sk-parallel-item,\n",
       "div.sk-serial,\n",
       "div.sk-item {\n",
       "  /* draw centered vertical line to link estimators */\n",
       "  background-image: linear-gradient(var(--sklearn-color-text-on-default-background), var(--sklearn-color-text-on-default-background));\n",
       "  background-size: 2px 100%;\n",
       "  background-repeat: no-repeat;\n",
       "  background-position: center center;\n",
       "}\n",
       "\n",
       "/* Parallel-specific style estimator block */\n",
       "\n",
       "#sk-container-id-3 div.sk-parallel-item::after {\n",
       "  content: \"\";\n",
       "  width: 100%;\n",
       "  border-bottom: 2px solid var(--sklearn-color-text-on-default-background);\n",
       "  flex-grow: 1;\n",
       "}\n",
       "\n",
       "#sk-container-id-3 div.sk-parallel {\n",
       "  display: flex;\n",
       "  align-items: stretch;\n",
       "  justify-content: center;\n",
       "  background-color: var(--sklearn-color-background);\n",
       "  position: relative;\n",
       "}\n",
       "\n",
       "#sk-container-id-3 div.sk-parallel-item {\n",
       "  display: flex;\n",
       "  flex-direction: column;\n",
       "}\n",
       "\n",
       "#sk-container-id-3 div.sk-parallel-item:first-child::after {\n",
       "  align-self: flex-end;\n",
       "  width: 50%;\n",
       "}\n",
       "\n",
       "#sk-container-id-3 div.sk-parallel-item:last-child::after {\n",
       "  align-self: flex-start;\n",
       "  width: 50%;\n",
       "}\n",
       "\n",
       "#sk-container-id-3 div.sk-parallel-item:only-child::after {\n",
       "  width: 0;\n",
       "}\n",
       "\n",
       "/* Serial-specific style estimator block */\n",
       "\n",
       "#sk-container-id-3 div.sk-serial {\n",
       "  display: flex;\n",
       "  flex-direction: column;\n",
       "  align-items: center;\n",
       "  background-color: var(--sklearn-color-background);\n",
       "  padding-right: 1em;\n",
       "  padding-left: 1em;\n",
       "}\n",
       "\n",
       "\n",
       "/* Toggleable style: style used for estimator/Pipeline/ColumnTransformer box that is\n",
       "clickable and can be expanded/collapsed.\n",
       "- Pipeline and ColumnTransformer use this feature and define the default style\n",
       "- Estimators will overwrite some part of the style using the `sk-estimator` class\n",
       "*/\n",
       "\n",
       "/* Pipeline and ColumnTransformer style (default) */\n",
       "\n",
       "#sk-container-id-3 div.sk-toggleable {\n",
       "  /* Default theme specific background. It is overwritten whether we have a\n",
       "  specific estimator or a Pipeline/ColumnTransformer */\n",
       "  background-color: var(--sklearn-color-background);\n",
       "}\n",
       "\n",
       "/* Toggleable label */\n",
       "#sk-container-id-3 label.sk-toggleable__label {\n",
       "  cursor: pointer;\n",
       "  display: block;\n",
       "  width: 100%;\n",
       "  margin-bottom: 0;\n",
       "  padding: 0.5em;\n",
       "  box-sizing: border-box;\n",
       "  text-align: center;\n",
       "}\n",
       "\n",
       "#sk-container-id-3 label.sk-toggleable__label-arrow:before {\n",
       "  /* Arrow on the left of the label */\n",
       "  content: \"▸\";\n",
       "  float: left;\n",
       "  margin-right: 0.25em;\n",
       "  color: var(--sklearn-color-icon);\n",
       "}\n",
       "\n",
       "#sk-container-id-3 label.sk-toggleable__label-arrow:hover:before {\n",
       "  color: var(--sklearn-color-text);\n",
       "}\n",
       "\n",
       "/* Toggleable content - dropdown */\n",
       "\n",
       "#sk-container-id-3 div.sk-toggleable__content {\n",
       "  max-height: 0;\n",
       "  max-width: 0;\n",
       "  overflow: hidden;\n",
       "  text-align: left;\n",
       "  /* unfitted */\n",
       "  background-color: var(--sklearn-color-unfitted-level-0);\n",
       "}\n",
       "\n",
       "#sk-container-id-3 div.sk-toggleable__content.fitted {\n",
       "  /* fitted */\n",
       "  background-color: var(--sklearn-color-fitted-level-0);\n",
       "}\n",
       "\n",
       "#sk-container-id-3 div.sk-toggleable__content pre {\n",
       "  margin: 0.2em;\n",
       "  border-radius: 0.25em;\n",
       "  color: var(--sklearn-color-text);\n",
       "  /* unfitted */\n",
       "  background-color: var(--sklearn-color-unfitted-level-0);\n",
       "}\n",
       "\n",
       "#sk-container-id-3 div.sk-toggleable__content.fitted pre {\n",
       "  /* unfitted */\n",
       "  background-color: var(--sklearn-color-fitted-level-0);\n",
       "}\n",
       "\n",
       "#sk-container-id-3 input.sk-toggleable__control:checked~div.sk-toggleable__content {\n",
       "  /* Expand drop-down */\n",
       "  max-height: 200px;\n",
       "  max-width: 100%;\n",
       "  overflow: auto;\n",
       "}\n",
       "\n",
       "#sk-container-id-3 input.sk-toggleable__control:checked~label.sk-toggleable__label-arrow:before {\n",
       "  content: \"▾\";\n",
       "}\n",
       "\n",
       "/* Pipeline/ColumnTransformer-specific style */\n",
       "\n",
       "#sk-container-id-3 div.sk-label input.sk-toggleable__control:checked~label.sk-toggleable__label {\n",
       "  color: var(--sklearn-color-text);\n",
       "  background-color: var(--sklearn-color-unfitted-level-2);\n",
       "}\n",
       "\n",
       "#sk-container-id-3 div.sk-label.fitted input.sk-toggleable__control:checked~label.sk-toggleable__label {\n",
       "  background-color: var(--sklearn-color-fitted-level-2);\n",
       "}\n",
       "\n",
       "/* Estimator-specific style */\n",
       "\n",
       "/* Colorize estimator box */\n",
       "#sk-container-id-3 div.sk-estimator input.sk-toggleable__control:checked~label.sk-toggleable__label {\n",
       "  /* unfitted */\n",
       "  background-color: var(--sklearn-color-unfitted-level-2);\n",
       "}\n",
       "\n",
       "#sk-container-id-3 div.sk-estimator.fitted input.sk-toggleable__control:checked~label.sk-toggleable__label {\n",
       "  /* fitted */\n",
       "  background-color: var(--sklearn-color-fitted-level-2);\n",
       "}\n",
       "\n",
       "#sk-container-id-3 div.sk-label label.sk-toggleable__label,\n",
       "#sk-container-id-3 div.sk-label label {\n",
       "  /* The background is the default theme color */\n",
       "  color: var(--sklearn-color-text-on-default-background);\n",
       "}\n",
       "\n",
       "/* On hover, darken the color of the background */\n",
       "#sk-container-id-3 div.sk-label:hover label.sk-toggleable__label {\n",
       "  color: var(--sklearn-color-text);\n",
       "  background-color: var(--sklearn-color-unfitted-level-2);\n",
       "}\n",
       "\n",
       "/* Label box, darken color on hover, fitted */\n",
       "#sk-container-id-3 div.sk-label.fitted:hover label.sk-toggleable__label.fitted {\n",
       "  color: var(--sklearn-color-text);\n",
       "  background-color: var(--sklearn-color-fitted-level-2);\n",
       "}\n",
       "\n",
       "/* Estimator label */\n",
       "\n",
       "#sk-container-id-3 div.sk-label label {\n",
       "  font-family: monospace;\n",
       "  font-weight: bold;\n",
       "  display: inline-block;\n",
       "  line-height: 1.2em;\n",
       "}\n",
       "\n",
       "#sk-container-id-3 div.sk-label-container {\n",
       "  text-align: center;\n",
       "}\n",
       "\n",
       "/* Estimator-specific */\n",
       "#sk-container-id-3 div.sk-estimator {\n",
       "  font-family: monospace;\n",
       "  border: 1px dotted var(--sklearn-color-border-box);\n",
       "  border-radius: 0.25em;\n",
       "  box-sizing: border-box;\n",
       "  margin-bottom: 0.5em;\n",
       "  /* unfitted */\n",
       "  background-color: var(--sklearn-color-unfitted-level-0);\n",
       "}\n",
       "\n",
       "#sk-container-id-3 div.sk-estimator.fitted {\n",
       "  /* fitted */\n",
       "  background-color: var(--sklearn-color-fitted-level-0);\n",
       "}\n",
       "\n",
       "/* on hover */\n",
       "#sk-container-id-3 div.sk-estimator:hover {\n",
       "  /* unfitted */\n",
       "  background-color: var(--sklearn-color-unfitted-level-2);\n",
       "}\n",
       "\n",
       "#sk-container-id-3 div.sk-estimator.fitted:hover {\n",
       "  /* fitted */\n",
       "  background-color: var(--sklearn-color-fitted-level-2);\n",
       "}\n",
       "\n",
       "/* Specification for estimator info (e.g. \"i\" and \"?\") */\n",
       "\n",
       "/* Common style for \"i\" and \"?\" */\n",
       "\n",
       ".sk-estimator-doc-link,\n",
       "a:link.sk-estimator-doc-link,\n",
       "a:visited.sk-estimator-doc-link {\n",
       "  float: right;\n",
       "  font-size: smaller;\n",
       "  line-height: 1em;\n",
       "  font-family: monospace;\n",
       "  background-color: var(--sklearn-color-background);\n",
       "  border-radius: 1em;\n",
       "  height: 1em;\n",
       "  width: 1em;\n",
       "  text-decoration: none !important;\n",
       "  margin-left: 1ex;\n",
       "  /* unfitted */\n",
       "  border: var(--sklearn-color-unfitted-level-1) 1pt solid;\n",
       "  color: var(--sklearn-color-unfitted-level-1);\n",
       "}\n",
       "\n",
       ".sk-estimator-doc-link.fitted,\n",
       "a:link.sk-estimator-doc-link.fitted,\n",
       "a:visited.sk-estimator-doc-link.fitted {\n",
       "  /* fitted */\n",
       "  border: var(--sklearn-color-fitted-level-1) 1pt solid;\n",
       "  color: var(--sklearn-color-fitted-level-1);\n",
       "}\n",
       "\n",
       "/* On hover */\n",
       "div.sk-estimator:hover .sk-estimator-doc-link:hover,\n",
       ".sk-estimator-doc-link:hover,\n",
       "div.sk-label-container:hover .sk-estimator-doc-link:hover,\n",
       ".sk-estimator-doc-link:hover {\n",
       "  /* unfitted */\n",
       "  background-color: var(--sklearn-color-unfitted-level-3);\n",
       "  color: var(--sklearn-color-background);\n",
       "  text-decoration: none;\n",
       "}\n",
       "\n",
       "div.sk-estimator.fitted:hover .sk-estimator-doc-link.fitted:hover,\n",
       ".sk-estimator-doc-link.fitted:hover,\n",
       "div.sk-label-container:hover .sk-estimator-doc-link.fitted:hover,\n",
       ".sk-estimator-doc-link.fitted:hover {\n",
       "  /* fitted */\n",
       "  background-color: var(--sklearn-color-fitted-level-3);\n",
       "  color: var(--sklearn-color-background);\n",
       "  text-decoration: none;\n",
       "}\n",
       "\n",
       "/* Span, style for the box shown on hovering the info icon */\n",
       ".sk-estimator-doc-link span {\n",
       "  display: none;\n",
       "  z-index: 9999;\n",
       "  position: relative;\n",
       "  font-weight: normal;\n",
       "  right: .2ex;\n",
       "  padding: .5ex;\n",
       "  margin: .5ex;\n",
       "  width: min-content;\n",
       "  min-width: 20ex;\n",
       "  max-width: 50ex;\n",
       "  color: var(--sklearn-color-text);\n",
       "  box-shadow: 2pt 2pt 4pt #999;\n",
       "  /* unfitted */\n",
       "  background: var(--sklearn-color-unfitted-level-0);\n",
       "  border: .5pt solid var(--sklearn-color-unfitted-level-3);\n",
       "}\n",
       "\n",
       ".sk-estimator-doc-link.fitted span {\n",
       "  /* fitted */\n",
       "  background: var(--sklearn-color-fitted-level-0);\n",
       "  border: var(--sklearn-color-fitted-level-3);\n",
       "}\n",
       "\n",
       ".sk-estimator-doc-link:hover span {\n",
       "  display: block;\n",
       "}\n",
       "\n",
       "/* \"?\"-specific style due to the `<a>` HTML tag */\n",
       "\n",
       "#sk-container-id-3 a.estimator_doc_link {\n",
       "  float: right;\n",
       "  font-size: 1rem;\n",
       "  line-height: 1em;\n",
       "  font-family: monospace;\n",
       "  background-color: var(--sklearn-color-background);\n",
       "  border-radius: 1rem;\n",
       "  height: 1rem;\n",
       "  width: 1rem;\n",
       "  text-decoration: none;\n",
       "  /* unfitted */\n",
       "  color: var(--sklearn-color-unfitted-level-1);\n",
       "  border: var(--sklearn-color-unfitted-level-1) 1pt solid;\n",
       "}\n",
       "\n",
       "#sk-container-id-3 a.estimator_doc_link.fitted {\n",
       "  /* fitted */\n",
       "  border: var(--sklearn-color-fitted-level-1) 1pt solid;\n",
       "  color: var(--sklearn-color-fitted-level-1);\n",
       "}\n",
       "\n",
       "/* On hover */\n",
       "#sk-container-id-3 a.estimator_doc_link:hover {\n",
       "  /* unfitted */\n",
       "  background-color: var(--sklearn-color-unfitted-level-3);\n",
       "  color: var(--sklearn-color-background);\n",
       "  text-decoration: none;\n",
       "}\n",
       "\n",
       "#sk-container-id-3 a.estimator_doc_link.fitted:hover {\n",
       "  /* fitted */\n",
       "  background-color: var(--sklearn-color-fitted-level-3);\n",
       "}\n",
       "</style><div id=\"sk-container-id-3\" class=\"sk-top-container\"><div class=\"sk-text-repr-fallback\"><pre>LogisticRegression()</pre><b>In a Jupyter environment, please rerun this cell to show the HTML representation or trust the notebook. <br />On GitHub, the HTML representation is unable to render, please try loading this page with nbviewer.org.</b></div><div class=\"sk-container\" hidden><div class=\"sk-item\"><div class=\"sk-estimator fitted sk-toggleable\"><input class=\"sk-toggleable__control sk-hidden--visually\" id=\"sk-estimator-id-3\" type=\"checkbox\" checked><label for=\"sk-estimator-id-3\" class=\"sk-toggleable__label fitted sk-toggleable__label-arrow fitted\">&nbsp;&nbsp;LogisticRegression<a class=\"sk-estimator-doc-link fitted\" rel=\"noreferrer\" target=\"_blank\" href=\"https://scikit-learn.org/1.4/modules/generated/sklearn.linear_model.LogisticRegression.html\">?<span>Documentation for LogisticRegression</span></a><span class=\"sk-estimator-doc-link fitted\">i<span>Fitted</span></span></label><div class=\"sk-toggleable__content fitted\"><pre>LogisticRegression()</pre></div> </div></div></div></div>"
      ],
      "text/plain": [
       "LogisticRegression()"
      ]
     },
     "execution_count": 156,
     "metadata": {},
     "output_type": "execute_result"
    }
   ],
   "source": [
    "model = LogisticRegression()\n",
    "model.fit(X_train, y_train)"
   ]
  },
  {
   "cell_type": "markdown",
   "id": "47b11700-be68-44db-854b-d70db6ef092e",
   "metadata": {},
   "source": [
    "## Evaluate Model"
   ]
  },
  {
   "cell_type": "code",
   "execution_count": 159,
   "id": "1df9093f-158e-40c3-afbe-06742c32d371",
   "metadata": {},
   "outputs": [
    {
     "name": "stdout",
     "output_type": "stream",
     "text": [
      "              precision    recall  f1-score   support\n",
      "\n",
      "           0       0.92      0.92      0.92     17198\n",
      "           1       0.82      0.82      0.82      7896\n",
      "\n",
      "    accuracy                           0.89     25094\n",
      "   macro avg       0.87      0.87      0.87     25094\n",
      "weighted avg       0.89      0.89      0.89     25094\n",
      "\n",
      "Confusion Matrix:\n",
      " [[15787  1411]\n",
      " [ 1391  6505]]\n",
      "ROC AUC Score: 0.9539899022211413\n"
     ]
    }
   ],
   "source": [
    "y_pred = model.predict(X_test)\n",
    "y_prob = model.predict_proba(X_test)[:, 1]\n",
    "\n",
    "print(classification_report(y_test, y_pred))\n",
    "print(\"Confusion Matrix:\\n\", confusion_matrix(y_test, y_pred))\n",
    "print(\"ROC AUC Score:\", roc_auc_score(y_test, y_prob))"
   ]
  },
  {
   "cell_type": "markdown",
   "id": "64aa0a0d-29b3-4a2e-adb9-98e1d8f71645",
   "metadata": {},
   "source": [
    "The logistic regression model continued to perform strongly in classifying whether a 311 service request would receive a slow or fast response, showing improvements after data cleaning. It achieved an accuracy of 89% and an excellent ROC AUC score of 0.95, reflecting its strong ability to distinguish between fast and slow complaints. The model achieved a precision of 0.82 and a recall of 0.82 for slow responses, meaning it correctly identified the majority of delayed cases while keeping false alarms relatively low. The F1-score for slow responses was 0.82, demonstrating a strong balance between precision and recall. According to the confusion matrix, out of 7,896 actual slow complaints, the model correctly predicted 6,505 and misclassified 1,391 as fast. Similarly, it correctly identified 15,787 out of 17,198 fast complaints, misclassifying only 1,411. These results indicate that the model is a reliable tool for flagging service delays in NYC’s 311 system, offering valuable support for improving agency responsiveness and prioritizing high-risk complaint types."
   ]
  },
  {
   "cell_type": "code",
   "execution_count": 171,
   "id": "1176c137-b6e1-4ca6-a0cd-e0e24a3a964e",
   "metadata": {},
   "outputs": [
    {
     "name": "stdout",
     "output_type": "stream",
     "text": [
      "Slow Response\n",
      "0    85821\n",
      "1    39649\n",
      "Name: count, dtype: int64\n"
     ]
    }
   ],
   "source": [
    "print(service_requests['Slow Response'].value_counts())"
   ]
  },
  {
   "cell_type": "code",
   "execution_count": 173,
   "id": "44b76563-b3e7-4825-90e8-d3b7c4aff57f",
   "metadata": {},
   "outputs": [
    {
     "data": {
      "image/png": "[encoded data removed]",
      "text/plain": [
       "<Figure size 600x400 with 2 Axes>"
      ]
     },
     "metadata": {},
     "output_type": "display_data"
    }
   ],
   "source": [
    "cm = confusion_matrix(y_test, y_pred)\n",
    "\n",
    "plt.figure(figsize=(6,4))\n",
    "sns.heatmap(cm, annot=True, fmt='d', cmap='Blues', xticklabels=['Fast', 'Slow'], yticklabels=['Fast', 'Slow'])\n",
    "plt.xlabel('Predicted')\n",
    "plt.ylabel('Actual')\n",
    "plt.title('Confusion Matrix')\n",
    "plt.show()"
   ]
  },
  {
   "cell_type": "code",
   "execution_count": 175,
   "id": "f56492cc-7586-4b33-b53d-4b61b4d80925",
   "metadata": {},
   "outputs": [
    {
     "data": {
      "image/png": "[encoded data removed]",
      "text/plain": [
       "<Figure size 600x400 with 1 Axes>"
      ]
     },
     "metadata": {},
     "output_type": "display_data"
    }
   ],
   "source": [
    "fpr, tpr, thresholds = roc_curve(y_test, y_prob)\n",
    "\n",
    "plt.figure(figsize=(6,4))\n",
    "plt.plot(fpr, tpr, label=f\"AUC = {roc_auc_score(y_test, y_prob):.2f}\")\n",
    "plt.plot([0,1], [0,1], 'k--')\n",
    "plt.xlabel('False Positive Rate')\n",
    "plt.ylabel('True Positive Rate')\n",
    "plt.title('ROC Curve')\n",
    "plt.legend()\n",
    "plt.show()"
   ]
  },
  {
   "cell_type": "code",
   "execution_count": 177,
   "id": "13da4a3d-1488-4884-a929-2bb68b4f4b3e",
   "metadata": {},
   "outputs": [
    {
     "name": "stderr",
     "output_type": "stream",
     "text": [
      "C:\\Users\\aasha\\AppData\\Local\\Temp\\ipykernel_17248\\3239752318.py:8: FutureWarning: \n",
      "\n",
      "Passing `palette` without assigning `hue` is deprecated and will be removed in v0.14.0. Assign the `y` variable to `hue` and set `legend=False` for the same effect.\n",
      "\n",
      "  sns.barplot(data=coefficients.head(15), x='Coefficient', y='Feature', palette='coolwarm')\n"
     ]
    },
    {
     "data": {
      "image/png": "[encoded data removed]",
      "text/plain": [
       "<Figure size 1000x600 with 1 Axes>"
      ]
     },
     "metadata": {},
     "output_type": "display_data"
    }
   ],
   "source": [
    "# Feature Importance\n",
    "coefficients = pd.DataFrame({\n",
    "    'Feature': X.columns,\n",
    "    'Coefficient': model.coef_[0]\n",
    "}).sort_values(by='Coefficient', key=abs, ascending=False)\n",
    "\n",
    "plt.figure(figsize=(10,6))\n",
    "sns.barplot(data=coefficients.head(15), x='Coefficient', y='Feature', palette='coolwarm')\n",
    "plt.title('Top 15 Most Important Features (Logistic Regression)')\n",
    "plt.show()"
   ]
  },
  {
   "cell_type": "markdown",
   "id": "6aeb9a71-f30b-494e-8644-4757608d8f71",
   "metadata": {},
   "source": [
    "## Conclusion"
   ]
  },
  {
   "cell_type": "markdown",
   "id": "a4352f3c-c6c7-4f68-b836-7beb57bccf55",
   "metadata": {},
   "source": [
    "This project successfully leveraged NYC 311 service request data to uncover patterns in complaint resolution times. After performing thorough data wrangling, exploratory analysis, and predictive modeling, several key insights emerged:\n",
    "\n",
    "There are significant disparities in how quickly different types of 311 complaints are resolved.\n",
    "\n",
    "Agencies such as NYPD and HPD are more likely to be associated with delayed responses.\n",
    "\n",
    "Complaint types related to residential noise, heat/hot water issues, and health concerns tend to experience slower resolution times.\n",
    "\n",
    "The logistic regression model achieved 89% accuracy and a ROC AUC of 0.95, demonstrating strong predictive power and reliability in identifying at-risk complaints.\n",
    "\n",
    "These findings offer actionable insights that can help New York City improve its 311 operations by prioritizing high-delay complaints, addressing agency-level inefficiencies, and promoting a more equitable and timely public service experience for all residents."
   ]
  }
 ],
 "metadata": {
  "kernelspec": {
   "display_name": "Python 3 (ipykernel)",
   "language": "python",
   "name": "python3"
  },
  "language_info": {
   "codemirror_mode": {
    "name": "ipython",
    "version": 3
   },
   "file_extension": ".py",
   "mimetype": "text/x-python",
   "name": "python",
   "nbconvert_exporter": "python",
   "pygments_lexer": "ipython3",
   "version": "3.12.4"
  }
 },
 "nbformat": 4,
 "nbformat_minor": 5
}
